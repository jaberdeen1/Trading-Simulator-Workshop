{
 "cells": [
  {
   "cell_type": "markdown",
   "metadata": {},
   "source": [
    "# Simulated Trading and Financial Data in Python\n",
    "### A workshop hosted by UNIT UQ, presented on 18/10/2022\n",
    "#### Code written and presented by Joshua Aberdeen"
   ]
  },
  {
   "cell_type": "markdown",
   "metadata": {},
   "source": [
    "## Overview\n",
    "This workshop aims to educate attendees on methods for importing dense financial data into python, working with pandas dataframes objects once imported, and applications for this data included a trading simulator."
   ]
  },
  {
   "cell_type": "markdown",
   "metadata": {
    "id": "OFdN6o28Zg1_"
   },
   "source": [
    "## DISCLAIMER\n",
    "\n",
    "The code in this file runs fine at the time of this workshop, however some data is time-sensitive and may return errors at some time following this workshop.\n",
    "\n",
    "This file and its associated presentation are for educational purposes only, and do not contain any financial advice. It is not the recommendation of the author of this file and its associated presentation that its contents be used for any purposes other than education. It is not the recommendation of the author to use the yfinance python package to inform any financial decisions. This file, its associated presentation and its author are not affiliated with the creators of the yfinance python package (can be found at github.com/ranaroussi/yfinance), Ran Aroussi, or Yahoo! Inc or Alphabet Inc. Any code from this file that is executed is done so at your own risk, the author of this file and UNIT UQ take no responsibility for these actions."
   ]
  },
  {
   "cell_type": "markdown",
   "metadata": {
    "id": "mPPiqqwYJA50"
   },
   "source": [
    "## Introduction\n",
    "Large investing and trading firms keep rich stock exchange data at their analysts and traders fingertips. If youre just a Uni student wanting to test some trading strategies in your spare time, that kind of data is a little out of reach, making it harder to test any trading or pricing theories you may have. \n",
    "\n",
    "We're going to have a look at how you can automate getting rich, dense stock exchange data into python, and some things you can do with it once it's there, including building your own trading simulator."
   ]
  },
  {
   "cell_type": "markdown",
   "metadata": {
    "id": "d-Aw3rkANtzX"
   },
   "source": [
    "## Getting Data into Python\n",
    "There are a number of ways to get stock exchange data into python:\n",
    "\n",
    "*   API's - An Application Programming Interface is a broad term for an interface between a program and a server or data source. For our purposes, an API provides a link from your code to some source of stock market data. API's (and the data they link to) are reliable, high-frequency and very rich, but often costly.\n",
    "*   Downloading CSV's from yahoo finance and importing them into python manually - exceptionally slow and repetitive, but completely free and easy for most people to do.\n",
    "*   Data Scraping - Many websites freely publish stock market data, data scraping is a way to request this data and download it directly into python automatically, in a format that python can easily work with. This takes a decent bit of coding knowledge (and time) to code up yourself.\n",
    "*   yfinance package - yfinance is a python package that scrapes data from yahoo finance for you, and imports it as pandas dataframes.\n",
    "\n",
    "### Some Notes on Data Scrapers\n",
    "*   It is important when using data scrapers (including yfinance) to consider its legality. Data scraping is in many cases and many countries perfectly legal (it's how Google's search engine works). However you should make sure to follow the terms of service of the website which you scrape from, and avoid copyright infringement. As rules of thumb: don't collect personally identifiable information, don't publish any scraped data without checking terms of service, don't scrape data too many times per minute, you can be blocked if you're slowing their servers down, and use the data for educational or personal non-commercial research purposes only.\n",
    "*   It is also important to note that free, scraped data is often viewed as not being as reliable or accurate as a premium paid service like some API's. This is partially why it is not reccomended to use this data for real trading."
   ]
  },
  {
   "cell_type": "code",
   "execution_count": null,
   "metadata": {},
   "outputs": [],
   "source": [
    "# NOTE you will need to pip or conda install these packages the first time you use them. This is how it looks for yfinance\n",
    "import sys\n",
    "!{sys.executable} -m pip install yfinance\n",
    "# and repeat the pip install line for all packages you dont have"
   ]
  },
  {
   "cell_type": "code",
   "execution_count": 110,
   "metadata": {
    "colab": {
     "base_uri": "https://localhost:8080/"
    },
    "id": "4V074HEIP1yX",
    "outputId": "21be398b-5454-4880-f5b1-527b6303b882"
   },
   "outputs": [],
   "source": [
    "# Import the yfinance package, and other packages used in this code\n",
    "import yfinance as yf\n",
    "import matplotlib.pyplot as plt\n",
    "import pandas as pd\n",
    "import datetime as dt\n",
    "import numpy as np\n",
    "import pytz\n",
    "import tzlocal\n",
    "import math\n",
    "from time import sleep"
   ]
  },
  {
   "cell_type": "markdown",
   "metadata": {
    "id": "rTvvnDpsUO16"
   },
   "source": [
    "### Historical Price Data\n",
    "\n",
    "We can use the yfinance package as below to get historical data from a stock's ticker:"
   ]
  },
  {
   "cell_type": "code",
   "execution_count": null,
   "metadata": {
    "colab": {
     "base_uri": "https://localhost:8080/",
     "height": 424
    },
    "id": "pzxvLl9bP8Z3",
    "outputId": "b300c912-116c-484d-f4ef-71f92cebd3fa"
   },
   "outputs": [],
   "source": [
    "# Create yfinance ticker class for the ASX200\n",
    "a200 = yf.Ticker(\"^AXJO\")\n",
    "# Download historical price data for ASX200 at 1 minute intervals\n",
    "a200H = a200.history(start=\"2022-10-12\", end=\"2022-10-19\", interval=\"1h\")\n",
    "# Display the historical price data\n",
    "display(a200H)"
   ]
  },
  {
   "cell_type": "markdown",
   "metadata": {
    "id": "ECknHWchCZV7"
   },
   "source": [
    "Note that we can specify data frequencies of 1m, 2m, 5m, 15m, 30m, 1h, 1d, 1wk, 1mo. However 1m data is only available for the past 7 days, and any data less than 1d is only available for the last 60 days. We can plot the closing price data if we want:"
   ]
  },
  {
   "cell_type": "code",
   "execution_count": null,
   "metadata": {
    "colab": {
     "base_uri": "https://localhost:8080/",
     "height": 296
    },
    "id": "aqxAucogDA-r",
    "outputId": "6380885a-57a3-41d1-cc1b-2928da782df1"
   },
   "outputs": [],
   "source": [
    "# Plot the historical price data\n",
    "a200H['Close'].plot(title=\"Share price of ASX200\", ylabel = \"Price ($)\")"
   ]
  },
  {
   "cell_type": "markdown",
   "metadata": {
    "id": "5W3QeqTiavsP"
   },
   "source": [
    "We can automate this process for any stock using a function, as follows:"
   ]
  },
  {
   "cell_type": "code",
   "execution_count": 68,
   "metadata": {
    "id": "g5vH_L12zUtN"
   },
   "outputs": [],
   "source": [
    "# Function to dowload and plot historical price data for a stock\n",
    "def graph(tick, start, end, interval):\n",
    "  histData = yf.Ticker(tick).history(start=start, end=end, interval=interval)\n",
    "  histData['Close'].plot(title=\"Price of \"+tick, ylabel = \"Price\")"
   ]
  },
  {
   "cell_type": "markdown",
   "metadata": {
    "id": "CqhAmWwK83jO"
   },
   "source": [
    "And to test our function works, here's another lovely picture:"
   ]
  },
  {
   "cell_type": "code",
   "execution_count": null,
   "metadata": {
    "colab": {
     "base_uri": "https://localhost:8080/",
     "height": 307
    },
    "id": "W5AtQMlY4fv4",
    "outputId": "d246ea70-5963-4972-b68f-2837a94770f6"
   },
   "outputs": [],
   "source": [
    "# Graph the downfall of bitcoin\n",
    "graph(\"BTC-USD\", \"2021-11-01\", \"2022-10-17\", \"1d\")"
   ]
  },
  {
   "cell_type": "markdown",
   "metadata": {},
   "source": [
    "We can also get the prices for multiple tickers at once, including currency exchange data."
   ]
  },
  {
   "cell_type": "code",
   "execution_count": null,
   "metadata": {},
   "outputs": [],
   "source": [
    "# Get close price data for multiple tickers at once\n",
    "yf.download([\"AAPL\", \"^AXJO\", \"AUDUSD=X\", \"A2M.AX\"], \"2022-10-12\", end=\"2022-10-19\", interval=\"1h\").Close"
   ]
  },
  {
   "cell_type": "markdown",
   "metadata": {},
   "source": [
    "You could use such dense price data to attempt to find trends, estimate some form of predictive model (perhaps an ISLM style model if you've completed ECON3350), test trading strategies (as we will see soon) and any number of other applications."
   ]
  },
  {
   "cell_type": "markdown",
   "metadata": {
    "id": "zg7iPDt9IF02"
   },
   "source": [
    "### Financial Data (Proper Nerd Stats)\n",
    "\n",
    "You may be thinking \"Cool graphs buddy, but what else have you got?\"\n",
    "\n",
    "Well it's not just price data that's available in the yfinance package. Below is some of the other data we can get using yfinance. There's even more too, including split and dividend history, earnings, sustainability etc. Have a look on the yfinance github for the full list."
   ]
  },
  {
   "cell_type": "code",
   "execution_count": null,
   "metadata": {
    "colab": {
     "base_uri": "https://localhost:8080/",
     "height": 455
    },
    "id": "-fVBVL1hqXok",
    "outputId": "ef18f1a5-5d0c-47a4-8d17-24c8fa5dd284"
   },
   "outputs": [],
   "source": [
    "# Get analyst recommendations\n",
    "yf.Ticker(\"BHP\").get_recommendations()"
   ]
  },
  {
   "cell_type": "code",
   "execution_count": null,
   "metadata": {},
   "outputs": [],
   "source": [
    "# Get general info\n",
    "yf.Ticker(\"AAPL\").info"
   ]
  },
  {
   "cell_type": "code",
   "execution_count": null,
   "metadata": {
    "colab": {
     "base_uri": "https://localhost:8080/",
     "height": 739
    },
    "id": "6Zbmoqxor2mL",
    "outputId": "b2361965-586b-4c7c-9cdd-22f8f478179f"
   },
   "outputs": [],
   "source": [
    "# Get official financial data\n",
    "yf.Ticker(\"AAPL\").get_financials()"
   ]
  },
  {
   "cell_type": "code",
   "execution_count": null,
   "metadata": {},
   "outputs": [],
   "source": [
    "# Get businesses cash flow\n",
    "yf.Ticker(\"AAPL\").cashflow"
   ]
  },
  {
   "cell_type": "code",
   "execution_count": null,
   "metadata": {
    "colab": {
     "base_uri": "https://localhost:8080/",
     "height": 501
    },
    "id": "pegDannYrXh4",
    "outputId": "e4ba2347-001b-4acc-bfd1-96ce9b86fbde"
   },
   "outputs": [],
   "source": [
    "# Get forecasts and predictions\n",
    "yf.Ticker(\"AAPL\").get_analysis()"
   ]
  },
  {
   "cell_type": "code",
   "execution_count": null,
   "metadata": {},
   "outputs": [],
   "source": [
    "# Get business balance sheet\n",
    "yf.Ticker(\"AAPL\").balancesheet"
   ]
  },
  {
   "cell_type": "markdown",
   "metadata": {},
   "source": [
    "Naturally with this amount of data there are more applications than I could begin to discuss; valuations etc. However I am not an analyst so I won't pretend that I know how to do that. Instead here is a simple example of computing the acid test ratio, that should give an indication of how you can work with these dataframes to do other calculations."
   ]
  },
  {
   "cell_type": "code",
   "execution_count": null,
   "metadata": {},
   "outputs": [],
   "source": [
    "# How to retreive a single cell of data\n",
    "balSheet = yf.Ticker(\"AAPL\").balancesheet\n",
    "# Retrieve via index numbers\n",
    "display(balSheet.iloc[0,1])\n",
    "# Retreive via index names\n",
    "display(balSheet.loc[\"Total Liab\", \"2020-09-26\"])"
   ]
  },
  {
   "cell_type": "code",
   "execution_count": 113,
   "metadata": {},
   "outputs": [],
   "source": [
    "# Function to get the acid test for a stock for a year (default is most recent year)\n",
    "def getRatiod(ticker, yearIndex=0):\n",
    "    # Get balance sheet data\n",
    "    balSheet = yf.Ticker(ticker).balancesheet\n",
    "    # Calculate acid test ratio\n",
    "    ratio = (balSheet.loc[\"Cash\"][yearIndex] + balSheet.loc[\"Net Receivables\"][yearIndex]\n",
    "             + balSheet.loc[\"Short Term Investments\"][yearIndex]) / balSheet.loc[\"Total Current Liabilities\"][yearIndex]\n",
    "    # Print the Ratio with a statement\n",
    "    print(\"The Acid Test Ratio for \"+ticker+\" as of \"+str(balSheet.columns[yearIndex])+\" is \"+str(ratio))"
   ]
  },
  {
   "cell_type": "markdown",
   "metadata": {},
   "source": [
    "Let's test this function:"
   ]
  },
  {
   "cell_type": "code",
   "execution_count": 114,
   "metadata": {},
   "outputs": [
    {
     "name": "stdout",
     "output_type": "stream",
     "text": [
      "The Acid Test Ratio for AAPL as of 2021-09-25 00:00:00 is 0.9096596297447422\n"
     ]
    }
   ],
   "source": [
    "# Get acid test ratio for apple for the most recent year\n",
    "getRatiod(\"AAPL\")"
   ]
  },
  {
   "cell_type": "code",
   "execution_count": 115,
   "metadata": {},
   "outputs": [
    {
     "name": "stdout",
     "output_type": "stream",
     "text": [
      "The Acid Test Ratio for MSFT as of 2020-06-30 00:00:00 is 2.3302862674595493\n"
     ]
    }
   ],
   "source": [
    "# Get acid test ratio for apple for the third most recent year\n",
    "getRatiod(\"MSFT\", 2)"
   ]
  },
  {
   "cell_type": "markdown",
   "metadata": {
    "id": "Cje8yQVnIyvT"
   },
   "source": [
    "## Application - Portfolio Simulator\n",
    "We can make some functions to automatically simulate a stock portfolio (or as many portfolios as you'd like) using pandas dataframes.\n",
    "\n",
    "The first step is to set up a pandas dataframe to keep track of all of our assets.\n",
    "We'll start off by giving ourselves some theoretical cash to splash:"
   ]
  },
  {
   "cell_type": "code",
   "execution_count": 116,
   "metadata": {
    "colab": {
     "base_uri": "https://localhost:8080/"
    },
    "id": "0ftKDDllAzG4",
    "outputId": "e6e8a81f-5ae8-49eb-da77-14ebdf742d1f"
   },
   "outputs": [
    {
     "name": "stdout",
     "output_type": "stream",
     "text": [
      "        Qty\n",
      "$$$$  50000\n"
     ]
    }
   ],
   "source": [
    "# Create a dataframe to keep track of portfolio holdings\n",
    "pf = pd.DataFrame({\"Qty\": [50000]}, index = ['$$$$'])\n",
    "print(pf)"
   ]
  },
  {
   "cell_type": "markdown",
   "metadata": {
    "id": "ovsqP3sV_6uG"
   },
   "source": [
    "Let's say we want to give ourselves 5 apple shares as well to start with, we could represent this as follows:"
   ]
  },
  {
   "cell_type": "code",
   "execution_count": 117,
   "metadata": {
    "colab": {
     "base_uri": "https://localhost:8080/"
    },
    "id": "gCxAKttCA60r",
    "outputId": "e7a9f3ed-5aa9-433b-f545-6570ed21e2fe"
   },
   "outputs": [
    {
     "name": "stdout",
     "output_type": "stream",
     "text": [
      "        Qty\n",
      "$$$$  50000\n",
      "AAPL      5\n"
     ]
    }
   ],
   "source": [
    "# Add a new row to the dataframe with apple share holdings\n",
    "pf.loc[\"AAPL\"] = [5]\n",
    "print(pf)"
   ]
  },
  {
   "cell_type": "markdown",
   "metadata": {
    "id": "yNSHuUziDpze"
   },
   "source": [
    "Now we want to make a function get the value of our portfolio. Of course we could just look up the current value of apple stock and do some simple maths, but instead we will make a function that will work for all shares we might have."
   ]
  },
  {
   "cell_type": "code",
   "execution_count": 118,
   "metadata": {
    "id": "NMQy0VFmhTRF"
   },
   "outputs": [],
   "source": [
    "# Function to compute the value of the portfolio from dataframe\n",
    "def pfValue(pf):\n",
    "    value = 0\n",
    "    # Loop through all shares\n",
    "    for tick in pf.index.values:\n",
    "        tickQty = pf.loc[tick, \"Qty\"]\n",
    "        if tick == \"$$$$\":\n",
    "            # The value of each unit of cash is 1\n",
    "            tickVal = 1.0\n",
    "        else:\n",
    "            # Download stock price\n",
    "            tickVal = yf.Ticker(tick).info[\"previousClose\"]\n",
    "        # Add the total value of the stocks\n",
    "        value += tickVal*tickQty\n",
    "        # Stop program making too frequent calls\n",
    "        sleep(5)\n",
    "    return value"
   ]
  },
  {
   "cell_type": "markdown",
   "metadata": {
    "id": "02LACmf84rd3"
   },
   "source": [
    "Let's test it:"
   ]
  },
  {
   "cell_type": "code",
   "execution_count": 119,
   "metadata": {
    "colab": {
     "base_uri": "https://localhost:8080/"
    },
    "id": "Cr_dNPVlzi_V",
    "outputId": "c67beb36-3e53-47ec-b922-ff09d866b8b6"
   },
   "outputs": [
    {
     "data": {
      "text/plain": [
       "50691.9"
      ]
     },
     "execution_count": 119,
     "metadata": {},
     "output_type": "execute_result"
    }
   ],
   "source": [
    "# Get value of portfolio\n",
    "pfValue(pf)"
   ]
  },
  {
   "cell_type": "markdown",
   "metadata": {
    "id": "vMjqYB8O5F1k"
   },
   "source": [
    "We want to automate buying/selling shares and the effects it will have on the portfolio, so we'll do this using basic preliminary functions too:"
   ]
  },
  {
   "cell_type": "code",
   "execution_count": 120,
   "metadata": {
    "id": "e6zVz1QX6cRr"
   },
   "outputs": [],
   "source": [
    "# Function to buy a stock\n",
    "def buy(pf, ticker, qty):\n",
    "    # Get value of stock\n",
    "    tickVal = yf.Ticker(ticker).info[\"previousClose\"]\n",
    "    # Check we have enough cash to buy the shares\n",
    "    if pf.at[\"$$$$\", \"Qty\"] >= qty*tickVal:\n",
    "        # Add share to portfolio if not already there\n",
    "        if ticker not in pf.index.values:\n",
    "            pf.loc[ticker] = [0]\n",
    "        # Subtract cost of shares\n",
    "        pf.loc[\"$$$$\", \"Qty\"] -= qty*tickVal\n",
    "        # Add purhcased shares\n",
    "        pf.loc[ticker, \"Qty\"] += qty\n",
    "    else:\n",
    "        # If theres not enough cash to buy\n",
    "        print(\"You don't have enough cash for that big spender\")\n",
    "\n",
    "def sell(pf, ticker, qty):\n",
    "    # Get value of stock\n",
    "    tickVal = yf.Ticker(ticker).info[\"previousClose\"]\n",
    "    # Check we own the shares to sell\n",
    "    if ticker in pf.index.values and pf.at[ticker, \"Qty\"] >= qty:\n",
    "            # Add price of shares to cash\n",
    "            pf.loc[\"$$$$\", \"Qty\"] += qty*tickVal\n",
    "            # Subtract shares\n",
    "            pf.loc[ticker, \"Qty\"] -= qty\n",
    "    else:\n",
    "        # If we don't own the shares to sell\n",
    "        print(\"Sorry, no naked selling\")"
   ]
  },
  {
   "cell_type": "markdown",
   "metadata": {
    "id": "oapQ7Iy08m9c"
   },
   "source": [
    "Lets test these functions:"
   ]
  },
  {
   "cell_type": "code",
   "execution_count": 121,
   "metadata": {
    "colab": {
     "base_uri": "https://localhost:8080/"
    },
    "id": "An6mG1dztfFW",
    "outputId": "699df8b0-e15a-4f9a-ef00-4b0d56e398fe"
   },
   "outputs": [
    {
     "name": "stdout",
     "output_type": "stream",
     "text": [
      "Sorry, no naked selling\n",
      "           Qty\n",
      "$$$$  49866.78\n",
      "AAPL      3.00\n",
      "TSLA      2.00\n"
     ]
    }
   ],
   "source": [
    "# Buy a share of tesla stock\n",
    "buy(pf, \"TSLA\", 2)\n",
    "# Sell two shares of apple stock\n",
    "sell(pf, \"AAPL\", 2)\n",
    "# Sell six shares of apple stock\n",
    "sell(pf, \"AAPL\", 6)\n",
    "# Check functions worked\n",
    "print(pf)"
   ]
  },
  {
   "cell_type": "markdown",
   "metadata": {},
   "source": [
    "Well now that we have these functions, we can link them into any algorithm we make. Let's test this below on a naive but simple example algorithm: one that buys any share that has a return on equity > 0.5. This should provide an example of how you could test your own algorithm, just by replacing the \"if\" condition with something else."
   ]
  },
  {
   "cell_type": "code",
   "execution_count": 122,
   "metadata": {},
   "outputs": [
    {
     "name": "stdout",
     "output_type": "stream",
     "text": [
      "          Qty\n",
      "$$$$  49728.4\n",
      "AAPL      4.0\n",
      "TSLA      2.0\n"
     ]
    }
   ],
   "source": [
    "# Tickers to watch\n",
    "watchers = [\"AAPL\", \"TSLA\", \"MSFT\"]\n",
    "for ticker in watchers:\n",
    "    retOnEquit = yf.Ticker(ticker).info[\"returnOnEquity\"]\n",
    "    # Check if ticker beats return on equity threshold\n",
    "    if retOnEquit > 0.5:\n",
    "        # Buy one of the stock\n",
    "        buy(pf, ticker, 1)\n",
    "    # Wait 3 seconds\n",
    "    sleep(3)\n",
    "# Show portfolio\n",
    "print(pf)"
   ]
  },
  {
   "cell_type": "markdown",
   "metadata": {},
   "source": [
    "We of course want to be able to save this portfolio to track how it does over time, so we will save it to a .csv file, which we can import back in as a dataframe any time in the future, check how its value has changed, do some more buying or selling etc."
   ]
  },
  {
   "cell_type": "code",
   "execution_count": null,
   "metadata": {},
   "outputs": [],
   "source": [
    "# How to export our portfolio dataframe\n",
    "pf.to_csv(\"firstPortfolio.csv\")"
   ]
  },
  {
   "cell_type": "code",
   "execution_count": null,
   "metadata": {},
   "outputs": [],
   "source": [
    "# How to import our portfolio dataframe back in\n",
    "pfImported = pd.read_csv(\"firstPortfolio.csv\")"
   ]
  },
  {
   "cell_type": "markdown",
   "metadata": {
    "id": "i44GjgGQ-5Sa"
   },
   "source": [
    "Well that's a nice little concept demonstration, but there are some serious limitations to be fixed.\n",
    "\n",
    "*   We only have a record of which shares we have at the present, we want to know our portfolio's history too\n",
    "*   Our current price for buying or selling is the last closing price, when in reality it would be the next future price (if we are doing a no limits order). We also have no way to process limit orders.\n",
    "*   No ability to account for differences in currency, limiting you to trading only in one currency\n",
    "\n",
    "## Improved Portfolio Simulator\n",
    "\n",
    "We'll extend our functions to fix this, using a class to neatly contain all of our extended functions and data for our simulated portfolio. To help those who aren't familiar with classes, I'll give an example of a class below.\n"
   ]
  },
  {
   "cell_type": "code",
   "execution_count": 123,
   "metadata": {},
   "outputs": [],
   "source": [
    "# Example of a class\n",
    "class dog:\n",
    "    # Method to initialise class\n",
    "    def __init__(self, myBreed):\n",
    "        # Add breed property to class\n",
    "        self.breed = myBreed\n",
    "    # Method to print the breed\n",
    "    def speak(self):\n",
    "        print(\"Hello, I am a \" + self.breed)"
   ]
  },
  {
   "cell_type": "markdown",
   "metadata": {},
   "source": [
    "Let's test this:"
   ]
  },
  {
   "cell_type": "code",
   "execution_count": 124,
   "metadata": {},
   "outputs": [
    {
     "name": "stdout",
     "output_type": "stream",
     "text": [
      "Hello, I am a German Shepherd\n"
     ]
    },
    {
     "data": {
      "text/plain": [
       "'German Shepherd'"
      ]
     },
     "execution_count": 124,
     "metadata": {},
     "output_type": "execute_result"
    }
   ],
   "source": [
    "# Create instance of dog class\n",
    "rufus = dog(\"German Shepherd\")\n",
    "# Call speak method\n",
    "rufus.speak()\n",
    "# Call breed property\n",
    "rufus.breed"
   ]
  },
  {
   "cell_type": "markdown",
   "metadata": {},
   "source": [
    "Now we move onto the portfolio class, fixing the problems listed above. There's a lot here, so read the comments in the code if you want to follow every step, but here is an overview:\n",
    "* We simulate buying in real time by recording an order in a dataframe. Then once price data has been released following when we placed the order we will execute that order (if the limits are met)\n",
    "* We keep track of all our holdings and pending orders in dataframes. These dataframes can be saved locally in a process called pickling when we want to close python. We also record our holdings any time they change, to keep a historical record.\n",
    "* We have a reserves cash account, allowing us to transfer more money to the balance to be used, while keeping track of where this money came from.\n",
    "* We convert all prices to USD by downloading the relevant exchange rates, and we make all time objects timezone aware to be able to compare \"absolute time\" between time zones."
   ]
  },
  {
   "attachments": {
    "mockup1.png": {
     "image/png": "[encoded data removed]"
    }
   },
   "cell_type": "markdown",
   "metadata": {},
   "source": [
    "A mockup of the dataframe we will use to keep track of securities holdings:\n",
    "![mockup1.png](attachment:mockup1.png)"
   ]
  },
  {
   "attachments": {
    "mockup2-3.png": {
     "image/png": "[encoded data removed]"
    }
   },
   "cell_type": "markdown",
   "metadata": {},
   "source": [
    "A mockup of the dataframe we will use to keep track of cash holdings:\n",
    "![mockup2-3.png](attachment:mockup2-3.png)"
   ]
  },
  {
   "attachments": {
    "mockup3-2.png": {
     "image/png": "[encoded data removed]"
    }
   },
   "cell_type": "markdown",
   "metadata": {},
   "source": [
    "A mockup of the dataframe we will use to keep track of orders:\n",
    "![mockup3-2.png](attachment:mockup3-2.png)"
   ]
  },
  {
   "cell_type": "code",
   "execution_count": 171,
   "metadata": {
    "id": "MJXAg_6--pVZ"
   },
   "outputs": [],
   "source": [
    "class portfolio:\n",
    "    # Method to initialise portfolio class\n",
    "    def __init__(self, nameOrNew=\"new\", balance=50000):\n",
    "        # Get your current timezone, could alternatively use any timezone you want\n",
    "        self.timeZone = tzlocal.get_localzone_name()\n",
    "        # If making a portfolio from scratch\n",
    "        if nameOrNew == \"new\":\n",
    "            # Take current time\n",
    "            now = dt.datetime.now(pytz.timezone(self.timeZone))\n",
    "            # Set empty dataframes as security holdings, cash holdings and orders properties\n",
    "            self.secHoldings = pd.DataFrame(columns=[now])\n",
    "            self.cashHoldings = pd.DataFrame([[balance], [0]], ['Balance', 'Reserves'], [now])\n",
    "            self.orders = pd.DataFrame(columns=['Ticker', 'Quantity', \"Upper_Limit\", \"Lower_Limit\", \"Expiry_Date\", \"Fill_or_Kill\", \"Last_Date_Checked\"])\n",
    "            # Set name property to 0, since it's a new portfolio and doesnt have a name yet\n",
    "            self.name = 0\n",
    "        # If importing a porfolio from pickle files\n",
    "        else:\n",
    "            # Read in dataframes from pickle files as security holdings, cash holdings and orders properties\n",
    "            self.secHoldings = pd.read_pickle(nameOrNew + \"SecHoldings.pickle\")\n",
    "            self.cashHoldings = pd.read_pickle(nameOrNew + \"CashHoldings.pickle\")\n",
    "            self.orders = pd.read_pickle(nameOrNew + \"Orders.pickle\")\n",
    "            # Set name property from imported files\n",
    "            self.name = nameOrNew\n",
    "            \n",
    "    # Method to export dataframes to files with custom name, using pickling\n",
    "    def export(self, name=0):\n",
    "        if name == 0 and self.name == 0:\n",
    "            # If this portfolio is new (wasn't imported) and hasnt been named\n",
    "            raise Exception(\"You haven't set a name for this new portfolio. Please include your new name as an argument\")\n",
    "        elif name ==0:\n",
    "            # If the portfolio was imported and no other name specified, use the imported name\n",
    "            name = self.name\n",
    "        self.secHoldings.to_pickle(name + \"SecHoldings.pickle\")\n",
    "        self.cashHoldings.to_pickle(name + \"cashHoldings.pickle\")\n",
    "        self.orders.to_pickle(name + \"Orders.pickle\")\n",
    "    \n",
    "    #===========================================================================\n",
    "    # Cash-specific Private Methods\n",
    "    \n",
    "    # Changes the cash holdings by any specified amount for any time\n",
    "    def __cashChange(self, amount, time):\n",
    "        # Copy most recent cash holdings\n",
    "        latestData = self.cashHoldings.iloc[:,-1].copy()\n",
    "        # Add amount to balance\n",
    "        latestData[\"Balance\"] += amount\n",
    "        # Append updated holdings to dataframe\n",
    "        self.cashHoldings[time]= latestData\n",
    "    #==========================================================================\n",
    "    # Cash-specific Methods\n",
    "    \n",
    "    # Takes cash from reserves and moves it to balance. Simulates giving \n",
    "    # yourself more money to trade with but keeps track of how much you've spent\n",
    "    def deposit(self, amount):\n",
    "        # Get current time\n",
    "        now = dt.datetime.now(pytz.timezone(self.timeZone))\n",
    "        # Copy most recent cash holdings\n",
    "        latestData = self.cashHoldings.iloc[:,-1].copy()\n",
    "        # Add amount to balance and subtract from reserves\n",
    "        latestData[\"Balance\"] += amount\n",
    "        latestData[\"Reserves\"] -= amount\n",
    "        # Append updated holdings to dataframe\n",
    "        self.cashHoldings[now]= latestData\n",
    "    \n",
    "    # Opposite of deposit    \n",
    "    def withdraw(self, amount):\n",
    "        self.deposit(-amount)\n",
    "\n",
    "    #==========================================================================\n",
    "    # Order-specific Private Methods\n",
    "    \n",
    "    # Changes the securities holdings by any specified amount for any stock at a given time\n",
    "    def __secChange(self, ticker, qtyDiff, time):\n",
    "        if ticker not in self.secHoldings.index.values:\n",
    "            # Add stock to holdings if not owned before\n",
    "            self.secHoldings.loc[ticker] = 0\n",
    "        # Copy most recent securities holdings\n",
    "        latestData = self.secHoldings.iloc[:,-1].copy()\n",
    "        # Change quantity of given stock\n",
    "        latestData[ticker] += qtyDiff\n",
    "        # Append updated holdings to dataframe\n",
    "        self.secHoldings[time]= latestData\n",
    "    \n",
    "    # Deletes any order from orders dataframe by row index i\n",
    "    def __delOrder(self, i):\n",
    "        self.orders = self.orders.drop(i)\n",
    "    \n",
    "    # Returns close price data for a list of tickers converted to USD using live exchange rate\n",
    "    def __getUSDPrices(self, tickers, startTime, endTime, intervals):\n",
    "        # Get closing price data for tickers in local currency\n",
    "        allPriceData = yf.download(tickers, start=startTime, end=endTime, interval=intervals).Close\n",
    "        # Stop the program early if theres no price data to prevent errors\n",
    "        if allPriceData.index.empty:\n",
    "            return 0\n",
    "        # If theres only one ticker it will return a pandas series object, convert this to a dataframe\n",
    "        if not isinstance(allPriceData, pd.DataFrame):\n",
    "            allPriceData = allPriceData.to_frame(name = tickers[0])\n",
    "        # Empty lists to store data\n",
    "        tickCurrency = {}\n",
    "        convTickers = []\n",
    "        for ticker in allPriceData.columns:\n",
    "            # Currency of ticker data\n",
    "            tickCurrency[ticker] = yf.Ticker(ticker).info[\"currency\"]\n",
    "            if not tickCurrency[ticker] == \"USD\" and not tickCurrency[ticker] in convTickers:\n",
    "                    # Add to list of all currencies whose data to download\n",
    "                    convTickers.append(tickCurrency[ticker]+\"USD=X\")\n",
    "        if not len(convTickers) == 0:\n",
    "            # Download conversion rate data\n",
    "            allConvData = yf.download(convTickers, start=startTime, end=endTime, interval=intervals).Close\n",
    "            # If theres only one ticker it will return a pandas series object, convert this to a dataframe\n",
    "            if not isinstance(allConvData, pd.DataFrame):\n",
    "                allConvData = allConvData.to_frame(name = convTickers[0])\n",
    "            for ticker in tickCurrency.keys():\n",
    "                if not tickCurrency[ticker] == \"USD\":\n",
    "                    # Make note of the ticker for conversion rate\n",
    "                    convTicker = tickCurrency[ticker]+\"USD=X\"\n",
    "                    convInd = 0\n",
    "                    for time in allPriceData.index:\n",
    "                        if not math.isnan(allPriceData.loc[time, ticker]):\n",
    "                            # Get first conversion rate after the current time\n",
    "                            while allConvData.index[convInd] < time and convInd < len(allConvData.index):\n",
    "                                convInd += 1\n",
    "                            convRate = allConvData.loc[allConvData.index[convInd], convTicker]\n",
    "                            # Convert price to USD\n",
    "                            allPriceData.loc[time, ticker] *= convRate\n",
    "        return allPriceData\n",
    "        \n",
    "    #==========================================================================\n",
    "    # Order-specific Methods\n",
    "\n",
    "    # Add an order with options to specify price limits, expiration data, fill or kill, (deletes order\n",
    "    # if not immediately filled), and the option to delete other orders on the same stock\n",
    "    def addOrder(self, ticker, qty=1, upLim=float('inf'), lowLim=-float('inf'), expDate = \"week\", FoK = True, delOthers = True):\n",
    "        # Get current time\n",
    "        now = dt.datetime.now(pytz.timezone(self.timeZone))\n",
    "        # Default expiry date is one week, need to convert this to a date a week from now\n",
    "        if expDate == \"week\":\n",
    "            expDate = now + dt.timedelta(days=7)\n",
    "        # Delete other orders on same stock\n",
    "        if delOthers:\n",
    "            ordersToDel = []\n",
    "            for order in range(len(self.orders.index)):\n",
    "                if self.orders.Ticker[order] == ticker:\n",
    "                    ordersToDel.append(order)\n",
    "            self.__delOrder(ordersToDel)\n",
    "        # Add order to orders dataframe\n",
    "        newEntry = pd.Series(data={\"Ticker\":ticker, 'Quantity':qty, \"Upper_Limit\":upLim, \"Lower_Limit\":lowLim, \"Expiry_Date\":expDate, \"Fill_or_Kill\":FoK, \"Last_Date_Checked\":now})\n",
    "        self.orders = self.orders.append(newEntry, ignore_index=True)\n",
    "\n",
    "    # Deletes every order in order book\n",
    "    def delAllOrders(self):\n",
    "        self.orders = self.orders.iloc[:0,:].copy()\n",
    "    \n",
    "    # Executes orders, (checks to see which orders can be filled, and deletes any expired or FoK orders)\n",
    "    def exeOrders(self):\n",
    "        # Stop now if there are no orders to complete\n",
    "        if self.orders.Ticker.empty:\n",
    "            return\n",
    "        # Fill list of tickers to download data for\n",
    "        orderTickers = []\n",
    "        for ticker in self.orders.Ticker.unique():\n",
    "            orderTickers.append(ticker)\n",
    "        # Get current time\n",
    "        now = dt.datetime.now(pytz.timezone(self.timeZone))\n",
    "        # Get the earliest date since one of the orders has been checked if it can be executed\n",
    "        lastDateChecked = min(self.orders.Last_Date_Checked).astimezone(pytz.timezone(self.timeZone))\n",
    "        # Get price data from last date checked to now\n",
    "        allPriceData = self.__getUSDPrices(orderTickers, lastDateChecked, now, \"1m\")\n",
    "        # Stop now if there is no price data\n",
    "        if not isinstance(allPriceData, pd.DataFrame):\n",
    "            return 0\n",
    "        # Chronologically check which orders can be filled or deleted at every time in data\n",
    "        for time in allPriceData.index:\n",
    "            # Keep track of orders that should be deleted\n",
    "            ordersToDel = []\n",
    "            for order in self.orders.index:\n",
    "                # Delete order if expired\n",
    "                if time >= self.orders.Expiry_Date[order]:\n",
    "                    ordersToDel.append(int(order))\n",
    "                # Otherwise if the time is after the last date checked\n",
    "                elif self.orders.Last_Date_Checked[order] <= time:\n",
    "                    # Get the price of the stock at the time being checked\n",
    "                    ticker = self.orders.Ticker[order]\n",
    "                    marketPrice = allPriceData.loc[time, ticker]\n",
    "                    # If the market is open at that time\n",
    "                    if not math.isnan(marketPrice):\n",
    "                        # Delete any fill or kill orders\n",
    "                        if self.orders.Fill_or_Kill[order]:\n",
    "                            ordersToDel.append(int(order))\n",
    "                        # Check the price limits hold\n",
    "                        if self.orders.Lower_Limit[order] < marketPrice < self.orders.Upper_Limit[order]:\n",
    "                            orderQuantity = self.orders.Quantity[order]\n",
    "                            # If we are selling, sell the minimum of ordered quantity and currently held shares,\n",
    "                            # stops \"naked\" selling\n",
    "                            if orderQuantity < 0:\n",
    "                                currentHoldings = self.secHoldings.loc[:,ticker].iloc[-1]\n",
    "                                possOrderQuantity = max(orderQuantity, -1*currentHoldings)\n",
    "                            # If we are buying, buy the minimum of ordered quantity and what we can buy with cash holdings\n",
    "                            else:\n",
    "                                currentCash = self.cashHoldings.loc[\"Balance\", :].iloc[-1]\n",
    "                                possOrderQuantity = min(orderQuantity, int(currentCash/marketPrice))\n",
    "                            # Change security holdings by quantity bought or sold\n",
    "                            self.__secChange(ticker, possOrderQuantity, time)\n",
    "                            # Change cash holdings by amount spent or earned\n",
    "                            self.__cashChange(-possOrderQuantity*marketPrice, time)\n",
    "                            # Subtract fullfilled shares from order, leave the rest standing\n",
    "                            self.orders.loc[order, \"Quantity\"] -= possOrderQuantity \n",
    "                # Delete orders that have been filled entirely\n",
    "                if self.orders.Quantity[order]==0:\n",
    "                    ordersToDel.append(int(order))\n",
    "            # Delete all orders that have been queued to delete\n",
    "            self.__delOrder(ordersToDel)\n",
    "        # Update last date checked to the most recent data available for all remaining orders\n",
    "        newLDC = allPriceData.index[-1]\n",
    "        self.orders.assign(Last_Date_Checked = newLDC)\n",
    "    \n",
    "    #==========================================================================\n",
    "    # Performance-specific Methods   \n",
    "\n",
    "    def fullHistory(self):\n",
    "        # Stop now if we havent purchased anything yet\n",
    "        if self.secHoldings.index.empty:\n",
    "            return\n",
    "        # Collect list of tickers we have owned at some point\n",
    "        histTickers = []\n",
    "        for ticker in self.secHoldings.index:\n",
    "            histTickers.append(ticker)\n",
    "        # Get current time\n",
    "        now = dt.datetime.now(pytz.timezone(self.timeZone))\n",
    "        # Get time when portfolio was first made\n",
    "        pfStart = self.secHoldings.columns[0].astimezone(pytz.timezone(self.timeZone))\n",
    "        # Request price data for all tickers owned from the start of the portfolio to now\n",
    "        allPriceData = self.__getUSDPrices(histTickers, pfStart, now, \"1m\")\n",
    "        # Indices to keep track of most recent holdings dates\n",
    "        lastSecInd = 0\n",
    "        lastCashInd = 0\n",
    "        # List to track portfolio value over time \n",
    "        histVal = []\n",
    "        # List to track last available holdings value for each ticker (to consider when shares trade at different times)\n",
    "        lastTickVals = self.secHoldings.iloc[:,0].copy()\n",
    "        # Chronologically stepping through data over time\n",
    "        for time in allPriceData.index:\n",
    "            if time.tzinfo == None:\n",
    "                time = time.tz_localize(\"UTC\")\n",
    "            # Get most recent security and cash holding prior to time considered\n",
    "            while lastSecInd < len(self.secHoldings.columns)-1:\n",
    "                if self.secHoldings.columns[lastSecInd+1] > time:\n",
    "                    break\n",
    "                lastSecInd += 1\n",
    "            while lastCashInd < len(self.cashHoldings.columns)-1:\n",
    "                if self.cashHoldings.columns[lastCashInd+1] > time:\n",
    "                    break\n",
    "                lastCashInd += 1\n",
    "            for ticker in self.secHoldings.index:\n",
    "                # Get price in USD\n",
    "                marketPrice = allPriceData.loc[time, ticker]\n",
    "                # If market is open check for any changes in holdings or price\n",
    "                if not math.isnan(marketPrice):\n",
    "                    lastSecDate = self.secHoldings.columns[lastSecInd]\n",
    "                    lastCashDate = self.cashHoldings.columns[lastCashInd]\n",
    "                    # Save updated last value for the ticker\n",
    "                    lastTickVals.loc[ticker] = marketPrice * self.secHoldings.loc[ticker, lastSecDate]   \n",
    "            # Get total value of all security holdings\n",
    "            value = lastTickVals.iloc[:].sum()\n",
    "            # Add cash holdings value\n",
    "            value += self.cashHoldings.loc[\"Balance\", lastCashDate] + self.cashHoldings.loc[\"Reserves\", lastCashDate]\n",
    "            # Append total value at time considered to list\n",
    "            histVal.append(value)\n",
    "        # Create dataframe with times for each value\n",
    "        valuesDf = pd.DataFrame({'Value':histVal}).set_index(allPriceData.index)\n",
    "        # Plot the value over time\n",
    "        valuesDf.Value.plot(title=\"Value of Portfolio\", ylabel = \"Price\")\n",
    "        display(valuesDf)"
   ]
  },
  {
   "cell_type": "markdown",
   "metadata": {},
   "source": [
    "Let's test some of these methods on a new portfolio we'll create:"
   ]
  },
  {
   "cell_type": "code",
   "execution_count": 172,
   "metadata": {},
   "outputs": [],
   "source": [
    "# Create new portfolio\n",
    "testPf = portfolio(balance = 100000)"
   ]
  },
  {
   "cell_type": "code",
   "execution_count": 173,
   "metadata": {},
   "outputs": [],
   "source": [
    "# Test deposit method\n",
    "testPf.deposit(5000)"
   ]
  },
  {
   "cell_type": "code",
   "execution_count": 174,
   "metadata": {
    "scrolled": true
   },
   "outputs": [
    {
     "data": {
      "text/html": [
       "<div>\n",
       "<style scoped>\n",
       "    .dataframe tbody tr th:only-of-type {\n",
       "        vertical-align: middle;\n",
       "    }\n",
       "\n",
       "    .dataframe tbody tr th {\n",
       "        vertical-align: top;\n",
       "    }\n",
       "\n",
       "    .dataframe thead th {\n",
       "        text-align: right;\n",
       "    }\n",
       "</style>\n",
       "<table border=\"1\" class=\"dataframe\">\n",
       "  <thead>\n",
       "    <tr style=\"text-align: right;\">\n",
       "      <th></th>\n",
       "      <th>2022-10-18 21:33:25.141595+10:00</th>\n",
       "      <th>2022-10-18 21:33:25.785721+10:00</th>\n",
       "    </tr>\n",
       "  </thead>\n",
       "  <tbody>\n",
       "    <tr>\n",
       "      <th>Balance</th>\n",
       "      <td>100000</td>\n",
       "      <td>105000</td>\n",
       "    </tr>\n",
       "    <tr>\n",
       "      <th>Reserves</th>\n",
       "      <td>0</td>\n",
       "      <td>-5000</td>\n",
       "    </tr>\n",
       "  </tbody>\n",
       "</table>\n",
       "</div>"
      ],
      "text/plain": [
       "          2022-10-18 21:33:25.141595+10:00  2022-10-18 21:33:25.785721+10:00\n",
       "Balance                             100000                            105000\n",
       "Reserves                                 0                             -5000"
      ]
     },
     "execution_count": 174,
     "metadata": {},
     "output_type": "execute_result"
    }
   ],
   "source": [
    "# Check deposit method worked\n",
    "testPf.cashHoldings"
   ]
  },
  {
   "cell_type": "code",
   "execution_count": 175,
   "metadata": {},
   "outputs": [],
   "source": [
    "# Test some orders\n",
    "testPf.addOrder(ticker=\"AAPL\")\n",
    "testPf.addOrder(ticker=\"MC.PA\", upLim=2000, lowLim=1500, FoK=False)"
   ]
  },
  {
   "cell_type": "code",
   "execution_count": 176,
   "metadata": {},
   "outputs": [
    {
     "data": {
      "text/html": [
       "<div>\n",
       "<style scoped>\n",
       "    .dataframe tbody tr th:only-of-type {\n",
       "        vertical-align: middle;\n",
       "    }\n",
       "\n",
       "    .dataframe tbody tr th {\n",
       "        vertical-align: top;\n",
       "    }\n",
       "\n",
       "    .dataframe thead th {\n",
       "        text-align: right;\n",
       "    }\n",
       "</style>\n",
       "<table border=\"1\" class=\"dataframe\">\n",
       "  <thead>\n",
       "    <tr style=\"text-align: right;\">\n",
       "      <th></th>\n",
       "      <th>Ticker</th>\n",
       "      <th>Quantity</th>\n",
       "      <th>Upper_Limit</th>\n",
       "      <th>Lower_Limit</th>\n",
       "      <th>Expiry_Date</th>\n",
       "      <th>Fill_or_Kill</th>\n",
       "      <th>Last_Date_Checked</th>\n",
       "    </tr>\n",
       "  </thead>\n",
       "  <tbody>\n",
       "    <tr>\n",
       "      <th>0</th>\n",
       "      <td>AAPL</td>\n",
       "      <td>1</td>\n",
       "      <td>inf</td>\n",
       "      <td>-inf</td>\n",
       "      <td>2022-10-25 21:33:27.364697+10:00</td>\n",
       "      <td>True</td>\n",
       "      <td>2022-10-18 21:33:27.364697+10:00</td>\n",
       "    </tr>\n",
       "    <tr>\n",
       "      <th>1</th>\n",
       "      <td>MC.PA</td>\n",
       "      <td>1</td>\n",
       "      <td>2000.0</td>\n",
       "      <td>1500.0</td>\n",
       "      <td>2022-10-25 21:33:27.368697+10:00</td>\n",
       "      <td>False</td>\n",
       "      <td>2022-10-18 21:33:27.368697+10:00</td>\n",
       "    </tr>\n",
       "  </tbody>\n",
       "</table>\n",
       "</div>"
      ],
      "text/plain": [
       "  Ticker Quantity  Upper_Limit  Lower_Limit                      Expiry_Date  \\\n",
       "0   AAPL        1          inf         -inf 2022-10-25 21:33:27.364697+10:00   \n",
       "1  MC.PA        1       2000.0       1500.0 2022-10-25 21:33:27.368697+10:00   \n",
       "\n",
       "  Fill_or_Kill                Last_Date_Checked  \n",
       "0         True 2022-10-18 21:33:27.364697+10:00  \n",
       "1        False 2022-10-18 21:33:27.368697+10:00  "
      ]
     },
     "execution_count": 176,
     "metadata": {},
     "output_type": "execute_result"
    }
   ],
   "source": [
    "# Check orders worked\n",
    "testPf.orders"
   ]
  },
  {
   "cell_type": "code",
   "execution_count": 177,
   "metadata": {},
   "outputs": [
    {
     "name": "stdout",
     "output_type": "stream",
     "text": [
      "[*********************100%***********************]  2 of 2 completed\n",
      "\n",
      "2 Failed downloads:\n",
      "- AAPL: No data found for this date range, symbol may be delisted\n",
      "- MC.PA: No data found for this date range, symbol may be delisted\n"
     ]
    },
    {
     "data": {
      "text/plain": [
       "0"
      ]
     },
     "execution_count": 177,
     "metadata": {},
     "output_type": "execute_result"
    }
   ],
   "source": [
    "# Attempt to execute orders\n",
    "testPf.exeOrders()"
   ]
  },
  {
   "cell_type": "markdown",
   "metadata": {},
   "source": [
    "This shows one limitation of using the yfinance package; that prices are not available until 20 minutes later. So we cant execute orders until at least 20 minutes after we place them. Instead of waiting, let's export this portfolio, and import a portfolio I prepared earlier:"
   ]
  },
  {
   "cell_type": "code",
   "execution_count": 178,
   "metadata": {},
   "outputs": [],
   "source": [
    "# Export portfolio\n",
    "testPf.export(name = \"testPf\")"
   ]
  },
  {
   "cell_type": "code",
   "execution_count": 179,
   "metadata": {},
   "outputs": [],
   "source": [
    "# Import pre-prepared example portfolio\n",
    "samplePf = portfolio(nameOrNew = \"samplePf\")"
   ]
  },
  {
   "cell_type": "code",
   "execution_count": 180,
   "metadata": {},
   "outputs": [
    {
     "data": {
      "text/html": [
       "<div>\n",
       "<style scoped>\n",
       "    .dataframe tbody tr th:only-of-type {\n",
       "        vertical-align: middle;\n",
       "    }\n",
       "\n",
       "    .dataframe tbody tr th {\n",
       "        vertical-align: top;\n",
       "    }\n",
       "\n",
       "    .dataframe thead th {\n",
       "        text-align: right;\n",
       "    }\n",
       "</style>\n",
       "<table border=\"1\" class=\"dataframe\">\n",
       "  <thead>\n",
       "    <tr style=\"text-align: right;\">\n",
       "      <th></th>\n",
       "      <th>2022-10-14 01:10:30.449782+10:00</th>\n",
       "      <th>2022-10-13 11:11:00-04:00</th>\n",
       "    </tr>\n",
       "  </thead>\n",
       "  <tbody>\n",
       "    <tr>\n",
       "      <th>MC.PA</th>\n",
       "      <td>0</td>\n",
       "      <td>1</td>\n",
       "    </tr>\n",
       "    <tr>\n",
       "      <th>AAPL</th>\n",
       "      <td>0</td>\n",
       "      <td>1</td>\n",
       "    </tr>\n",
       "  </tbody>\n",
       "</table>\n",
       "</div>"
      ],
      "text/plain": [
       "      2022-10-14 01:10:30.449782+10:00 2022-10-13 11:11:00-04:00\n",
       "MC.PA                                0                         1\n",
       "AAPL                                 0                         1"
      ]
     },
     "execution_count": 180,
     "metadata": {},
     "output_type": "execute_result"
    }
   ],
   "source": [
    "# Show holdings\n",
    "samplePf.secHoldings"
   ]
  },
  {
   "cell_type": "code",
   "execution_count": 181,
   "metadata": {
    "colab": {
     "base_uri": "https://localhost:8080/",
     "height": 49
    },
    "id": "SKHXspA4C_oS",
    "outputId": "68bdc47a-c1fd-427c-8872-79e3d78a59f9",
    "scrolled": false
   },
   "outputs": [
    {
     "data": {
      "text/html": [
       "<div>\n",
       "<style scoped>\n",
       "    .dataframe tbody tr th:only-of-type {\n",
       "        vertical-align: middle;\n",
       "    }\n",
       "\n",
       "    .dataframe tbody tr th {\n",
       "        vertical-align: top;\n",
       "    }\n",
       "\n",
       "    .dataframe thead th {\n",
       "        text-align: right;\n",
       "    }\n",
       "</style>\n",
       "<table border=\"1\" class=\"dataframe\">\n",
       "  <thead>\n",
       "    <tr style=\"text-align: right;\">\n",
       "      <th></th>\n",
       "      <th>Ticker</th>\n",
       "      <th>Quantity</th>\n",
       "      <th>Upper_Limit</th>\n",
       "      <th>Lower_Limit</th>\n",
       "      <th>Expiry_Date</th>\n",
       "      <th>Fill_or_Kill</th>\n",
       "      <th>Last_Date_Checked</th>\n",
       "    </tr>\n",
       "  </thead>\n",
       "  <tbody>\n",
       "    <tr>\n",
       "      <th>0</th>\n",
       "      <td>MC.PA</td>\n",
       "      <td>1</td>\n",
       "      <td>inf</td>\n",
       "      <td>-inf</td>\n",
       "      <td>2022-10-21 01:46:15.265927+10:00</td>\n",
       "      <td>True</td>\n",
       "      <td>2022-10-14 01:46:15.265927+10:00</td>\n",
       "    </tr>\n",
       "    <tr>\n",
       "      <th>1</th>\n",
       "      <td>^AXJO</td>\n",
       "      <td>1</td>\n",
       "      <td>2.0</td>\n",
       "      <td>1.0</td>\n",
       "      <td>2022-10-21 01:46:15.308838+10:00</td>\n",
       "      <td>False</td>\n",
       "      <td>2022-10-14 01:46:15.308838+10:00</td>\n",
       "    </tr>\n",
       "    <tr>\n",
       "      <th>2</th>\n",
       "      <td>AAPL</td>\n",
       "      <td>1</td>\n",
       "      <td>inf</td>\n",
       "      <td>-inf</td>\n",
       "      <td>2022-10-21 01:46:15.346344+10:00</td>\n",
       "      <td>True</td>\n",
       "      <td>2022-10-14 01:46:15.346344+10:00</td>\n",
       "    </tr>\n",
       "    <tr>\n",
       "      <th>3</th>\n",
       "      <td>A2M.AX</td>\n",
       "      <td>1</td>\n",
       "      <td>inf</td>\n",
       "      <td>-inf</td>\n",
       "      <td>2022-10-21 01:46:15.375360+10:00</td>\n",
       "      <td>True</td>\n",
       "      <td>2022-10-14 01:46:15.375360+10:00</td>\n",
       "    </tr>\n",
       "  </tbody>\n",
       "</table>\n",
       "</div>"
      ],
      "text/plain": [
       "   Ticker Quantity  Upper_Limit  Lower_Limit                      Expiry_Date  \\\n",
       "0   MC.PA        1          inf         -inf 2022-10-21 01:46:15.265927+10:00   \n",
       "1   ^AXJO        1          2.0          1.0 2022-10-21 01:46:15.308838+10:00   \n",
       "2    AAPL        1          inf         -inf 2022-10-21 01:46:15.346344+10:00   \n",
       "3  A2M.AX        1          inf         -inf 2022-10-21 01:46:15.375360+10:00   \n",
       "\n",
       "  Fill_or_Kill                Last_Date_Checked  \n",
       "0         True 2022-10-14 01:46:15.265927+10:00  \n",
       "1        False 2022-10-14 01:46:15.308838+10:00  \n",
       "2         True 2022-10-14 01:46:15.346344+10:00  \n",
       "3         True 2022-10-14 01:46:15.375360+10:00  "
      ]
     },
     "metadata": {},
     "output_type": "display_data"
    }
   ],
   "source": [
    "# Show orders\n",
    "display(samplePf.orders)"
   ]
  },
  {
   "cell_type": "code",
   "execution_count": 182,
   "metadata": {
    "colab": {
     "base_uri": "https://localhost:8080/",
     "height": 225
    },
    "id": "Nwb2QVLTDHm1",
    "outputId": "d9c341d1-fbd6-45c5-9199-6efa0e9a16ce"
   },
   "outputs": [
    {
     "name": "stdout",
     "output_type": "stream",
     "text": [
      "[*********************100%***********************]  4 of 4 completed\n",
      "[*********************100%***********************]  2 of 2 completed\n"
     ]
    }
   ],
   "source": [
    "# Execute pre-prepared orders\n",
    "samplePf.exeOrders()"
   ]
  },
  {
   "cell_type": "code",
   "execution_count": 183,
   "metadata": {
    "colab": {
     "base_uri": "https://localhost:8080/",
     "height": 49
    },
    "id": "SKHXspA4C_oS",
    "outputId": "68bdc47a-c1fd-427c-8872-79e3d78a59f9",
    "scrolled": false
   },
   "outputs": [
    {
     "data": {
      "text/html": [
       "<div>\n",
       "<style scoped>\n",
       "    .dataframe tbody tr th:only-of-type {\n",
       "        vertical-align: middle;\n",
       "    }\n",
       "\n",
       "    .dataframe tbody tr th {\n",
       "        vertical-align: top;\n",
       "    }\n",
       "\n",
       "    .dataframe thead th {\n",
       "        text-align: right;\n",
       "    }\n",
       "</style>\n",
       "<table border=\"1\" class=\"dataframe\">\n",
       "  <thead>\n",
       "    <tr style=\"text-align: right;\">\n",
       "      <th></th>\n",
       "      <th>Ticker</th>\n",
       "      <th>Quantity</th>\n",
       "      <th>Upper_Limit</th>\n",
       "      <th>Lower_Limit</th>\n",
       "      <th>Expiry_Date</th>\n",
       "      <th>Fill_or_Kill</th>\n",
       "      <th>Last_Date_Checked</th>\n",
       "    </tr>\n",
       "  </thead>\n",
       "  <tbody>\n",
       "    <tr>\n",
       "      <th>1</th>\n",
       "      <td>^AXJO</td>\n",
       "      <td>1</td>\n",
       "      <td>2.0</td>\n",
       "      <td>1.0</td>\n",
       "      <td>2022-10-21 01:46:15.308838+10:00</td>\n",
       "      <td>False</td>\n",
       "      <td>2022-10-14 01:46:15.308838+10:00</td>\n",
       "    </tr>\n",
       "  </tbody>\n",
       "</table>\n",
       "</div>"
      ],
      "text/plain": [
       "  Ticker Quantity  Upper_Limit  Lower_Limit                      Expiry_Date  \\\n",
       "1  ^AXJO        1          2.0          1.0 2022-10-21 01:46:15.308838+10:00   \n",
       "\n",
       "  Fill_or_Kill                Last_Date_Checked  \n",
       "1        False 2022-10-14 01:46:15.308838+10:00  "
      ]
     },
     "metadata": {},
     "output_type": "display_data"
    }
   ],
   "source": [
    "# Show orders\n",
    "display(samplePf.orders)"
   ]
  },
  {
   "cell_type": "code",
   "execution_count": 184,
   "metadata": {},
   "outputs": [
    {
     "data": {
      "text/html": [
       "<div>\n",
       "<style scoped>\n",
       "    .dataframe tbody tr th:only-of-type {\n",
       "        vertical-align: middle;\n",
       "    }\n",
       "\n",
       "    .dataframe tbody tr th {\n",
       "        vertical-align: top;\n",
       "    }\n",
       "\n",
       "    .dataframe thead th {\n",
       "        text-align: right;\n",
       "    }\n",
       "</style>\n",
       "<table border=\"1\" class=\"dataframe\">\n",
       "  <thead>\n",
       "    <tr style=\"text-align: right;\">\n",
       "      <th></th>\n",
       "      <th>2022-10-14 01:10:30.449782+10:00</th>\n",
       "      <th>2022-10-13 11:11:00-04:00</th>\n",
       "      <th>2022-10-13 15:47:00+00:00</th>\n",
       "      <th>2022-10-13 23:00:00+00:00</th>\n",
       "      <th>2022-10-14 07:00:00+00:00</th>\n",
       "    </tr>\n",
       "  </thead>\n",
       "  <tbody>\n",
       "    <tr>\n",
       "      <th>MC.PA</th>\n",
       "      <td>0</td>\n",
       "      <td>1</td>\n",
       "      <td>1</td>\n",
       "      <td>1</td>\n",
       "      <td>2</td>\n",
       "    </tr>\n",
       "    <tr>\n",
       "      <th>AAPL</th>\n",
       "      <td>0</td>\n",
       "      <td>1</td>\n",
       "      <td>2</td>\n",
       "      <td>2</td>\n",
       "      <td>2</td>\n",
       "    </tr>\n",
       "    <tr>\n",
       "      <th>A2M.AX</th>\n",
       "      <td>0</td>\n",
       "      <td>0</td>\n",
       "      <td>0</td>\n",
       "      <td>1</td>\n",
       "      <td>1</td>\n",
       "    </tr>\n",
       "  </tbody>\n",
       "</table>\n",
       "</div>"
      ],
      "text/plain": [
       "       2022-10-14 01:10:30.449782+10:00 2022-10-13 11:11:00-04:00  \\\n",
       "MC.PA                                 0                         1   \n",
       "AAPL                                  0                         1   \n",
       "A2M.AX                                0                         0   \n",
       "\n",
       "       2022-10-13 15:47:00+00:00 2022-10-13 23:00:00+00:00  \\\n",
       "MC.PA                          1                         1   \n",
       "AAPL                           2                         2   \n",
       "A2M.AX                         0                         1   \n",
       "\n",
       "       2022-10-14 07:00:00+00:00  \n",
       "MC.PA                          2  \n",
       "AAPL                           2  \n",
       "A2M.AX                         1  "
      ]
     },
     "execution_count": 184,
     "metadata": {},
     "output_type": "execute_result"
    }
   ],
   "source": [
    "# Show holdings\n",
    "samplePf.secHoldings"
   ]
  },
  {
   "cell_type": "code",
   "execution_count": 185,
   "metadata": {
    "colab": {
     "base_uri": "https://localhost:8080/",
     "height": 1000
    },
    "id": "RrMpTNeIsKgm",
    "outputId": "124d9c37-1ec6-4877-baad-9036fdaf6a9e",
    "scrolled": true
   },
   "outputs": [
    {
     "name": "stdout",
     "output_type": "stream",
     "text": [
      "[*********************100%***********************]  3 of 3 completed\n",
      "[*********************100%***********************]  2 of 2 completed\n"
     ]
    },
    {
     "data": {
      "text/html": [
       "<div>\n",
       "<style scoped>\n",
       "    .dataframe tbody tr th:only-of-type {\n",
       "        vertical-align: middle;\n",
       "    }\n",
       "\n",
       "    .dataframe tbody tr th {\n",
       "        vertical-align: top;\n",
       "    }\n",
       "\n",
       "    .dataframe thead th {\n",
       "        text-align: right;\n",
       "    }\n",
       "</style>\n",
       "<table border=\"1\" class=\"dataframe\">\n",
       "  <thead>\n",
       "    <tr style=\"text-align: right;\">\n",
       "      <th></th>\n",
       "      <th>Value</th>\n",
       "    </tr>\n",
       "    <tr>\n",
       "      <th>Datetime</th>\n",
       "      <th></th>\n",
       "    </tr>\n",
       "  </thead>\n",
       "  <tbody>\n",
       "    <tr>\n",
       "      <th>2022-10-13 15:11:00+00:00</th>\n",
       "      <td>99998.808150</td>\n",
       "    </tr>\n",
       "    <tr>\n",
       "      <th>2022-10-13 15:12:00+00:00</th>\n",
       "      <td>99998.815970</td>\n",
       "    </tr>\n",
       "    <tr>\n",
       "      <th>2022-10-13 15:13:00+00:00</th>\n",
       "      <td>100000.043311</td>\n",
       "    </tr>\n",
       "    <tr>\n",
       "      <th>2022-10-13 15:14:00+00:00</th>\n",
       "      <td>100000.812282</td>\n",
       "    </tr>\n",
       "    <tr>\n",
       "      <th>2022-10-13 15:15:00+00:00</th>\n",
       "      <td>99999.841263</td>\n",
       "    </tr>\n",
       "    <tr>\n",
       "      <th>...</th>\n",
       "      <td>...</td>\n",
       "    </tr>\n",
       "    <tr>\n",
       "      <th>2022-10-18 11:15:00+00:00</th>\n",
       "      <td>100043.988327</td>\n",
       "    </tr>\n",
       "    <tr>\n",
       "      <th>2022-10-18 11:16:00+00:00</th>\n",
       "      <td>100043.791893</td>\n",
       "    </tr>\n",
       "    <tr>\n",
       "      <th>2022-10-18 11:17:00+00:00</th>\n",
       "      <td>100044.553897</td>\n",
       "    </tr>\n",
       "    <tr>\n",
       "      <th>2022-10-18 11:18:00+00:00</th>\n",
       "      <td>100044.923291</td>\n",
       "    </tr>\n",
       "    <tr>\n",
       "      <th>2022-10-18 11:19:41+00:00</th>\n",
       "      <td>100044.653162</td>\n",
       "    </tr>\n",
       "  </tbody>\n",
       "</table>\n",
       "<p>2928 rows × 1 columns</p>\n",
       "</div>"
      ],
      "text/plain": [
       "                                   Value\n",
       "Datetime                                \n",
       "2022-10-13 15:11:00+00:00   99998.808150\n",
       "2022-10-13 15:12:00+00:00   99998.815970\n",
       "2022-10-13 15:13:00+00:00  100000.043311\n",
       "2022-10-13 15:14:00+00:00  100000.812282\n",
       "2022-10-13 15:15:00+00:00   99999.841263\n",
       "...                                  ...\n",
       "2022-10-18 11:15:00+00:00  100043.988327\n",
       "2022-10-18 11:16:00+00:00  100043.791893\n",
       "2022-10-18 11:17:00+00:00  100044.553897\n",
       "2022-10-18 11:18:00+00:00  100044.923291\n",
       "2022-10-18 11:19:41+00:00  100044.653162\n",
       "\n",
       "[2928 rows x 1 columns]"
      ]
     },
     "metadata": {},
     "output_type": "display_data"
    },
    {
     "data": {
      "image/png": "[encoded data removed]",
      "text/plain": [
       "<Figure size 432x288 with 1 Axes>"
      ]
     },
     "metadata": {
      "needs_background": "light"
     },
     "output_type": "display_data"
    }
   ],
   "source": [
    "samplePf.fullHistory()"
   ]
  },
  {
   "cell_type": "markdown",
   "metadata": {},
   "source": [
    "Now we would re-export this portfolio, and if we want to make any orders in the future or just check its performance we can import it back into any python file that has the porfolio class in it using the same method as above."
   ]
  },
  {
   "cell_type": "markdown",
   "metadata": {},
   "source": [
    "## Algorithmic Simulated Trading Example\n",
    "\n",
    "Now that we have built the simulator, here is an example of how it could be used to test a strategy. This strategy is to use a time weighted average of analyst reccomendations (as imported using yfinance) to decide whether to buy, sell or hold a stock."
   ]
  },
  {
   "cell_type": "code",
   "execution_count": 186,
   "metadata": {},
   "outputs": [],
   "source": [
    "# Make a new portfolio\n",
    "followHerd = portfolio(balance = 50000)\n",
    "# Tickers to watch\n",
    "watchers = [\"AAPL\", \"TSLA\", \"MSFT\", \"NVDA\", \"BHP\"]\n",
    "# Empty list to track metric of analyst opinion\n",
    "watchersMetr = []\n",
    "for ticker in watchers:\n",
    "    # Get current time\n",
    "    now = dt.datetime.now()\n",
    "    # Get analyst recommendations for ticker for last 90 days\n",
    "    data = yf.Ticker(ticker).get_recommendations()\n",
    "    start = now + dt.timedelta(days=-90)\n",
    "    data = data.loc[start:now]\n",
    "    # Empty list to track weight of each reccomendation\n",
    "    weight = []\n",
    "    # Empty list to track value of each reccomendation\n",
    "    score = []\n",
    "    for time in data.index:\n",
    "        # Calculate how many days ago the recomendation was made\n",
    "        timeDiff = now-time\n",
    "        timeDiff = timeDiff.days\n",
    "        # Get recommendation\n",
    "        rating = data.loc[time, \"To Grade\"]\n",
    "        # If recommendation is positive, assign value 1\n",
    "        if rating in [\"Outperform\", \"Overweight\", \"Buy\", \"Strong Buy\", \"Positive\"]:\n",
    "            score.append(1)\n",
    "            # Also calculate time-discounted weight of recommendation\n",
    "            weight.append(0.95**timeDiff)\n",
    "        # If recommendation is negative, assign value -1\n",
    "        elif rating in [\"Underperform\", \"Underweight\", \"Strong Sell\", \"Sell\", \"Negative\"]:\n",
    "            weight.append(0.95**timeDiff)\n",
    "            score.append(-1)\n",
    "    # Normalise weights to sum to 1\n",
    "    weights = [float(i)/sum(weight) for i in weight]\n",
    "    # Calculate and save weighted average metric\n",
    "    watchersMetr.append(sum(np.array(weights)*np.array(score)))\n",
    "    # Sell if weighted average metric is less than -0.2\n",
    "    if watchersMetr[-1] <= -0.2:\n",
    "        followHerd.addOrder(ticker, qty=-1)\n",
    "    # Sleep for 3 seconds\n",
    "    sleep(3)\n",
    "for i in range(len(watchers)):\n",
    "    # Buy if weighted average metric is less than -0.2\n",
    "    if watchersMetr[i] >= 0.5:\n",
    "        ticker = watchers[i]\n",
    "        followHerd.addOrder(ticker, qty=1)"
   ]
  },
  {
   "cell_type": "code",
   "execution_count": 187,
   "metadata": {},
   "outputs": [
    {
     "data": {
      "text/html": [
       "<div>\n",
       "<style scoped>\n",
       "    .dataframe tbody tr th:only-of-type {\n",
       "        vertical-align: middle;\n",
       "    }\n",
       "\n",
       "    .dataframe tbody tr th {\n",
       "        vertical-align: top;\n",
       "    }\n",
       "\n",
       "    .dataframe thead th {\n",
       "        text-align: right;\n",
       "    }\n",
       "</style>\n",
       "<table border=\"1\" class=\"dataframe\">\n",
       "  <thead>\n",
       "    <tr style=\"text-align: right;\">\n",
       "      <th></th>\n",
       "      <th>Ticker</th>\n",
       "      <th>Quantity</th>\n",
       "      <th>Upper_Limit</th>\n",
       "      <th>Lower_Limit</th>\n",
       "      <th>Expiry_Date</th>\n",
       "      <th>Fill_or_Kill</th>\n",
       "      <th>Last_Date_Checked</th>\n",
       "    </tr>\n",
       "  </thead>\n",
       "  <tbody>\n",
       "    <tr>\n",
       "      <th>0</th>\n",
       "      <td>AAPL</td>\n",
       "      <td>1</td>\n",
       "      <td>inf</td>\n",
       "      <td>-inf</td>\n",
       "      <td>2022-10-25 21:36:36.413395+10:00</td>\n",
       "      <td>True</td>\n",
       "      <td>2022-10-18 21:36:36.413395+10:00</td>\n",
       "    </tr>\n",
       "    <tr>\n",
       "      <th>1</th>\n",
       "      <td>TSLA</td>\n",
       "      <td>1</td>\n",
       "      <td>inf</td>\n",
       "      <td>-inf</td>\n",
       "      <td>2022-10-25 21:36:36.413395+10:00</td>\n",
       "      <td>True</td>\n",
       "      <td>2022-10-18 21:36:36.413395+10:00</td>\n",
       "    </tr>\n",
       "    <tr>\n",
       "      <th>2</th>\n",
       "      <td>MSFT</td>\n",
       "      <td>1</td>\n",
       "      <td>inf</td>\n",
       "      <td>-inf</td>\n",
       "      <td>2022-10-25 21:36:36.413395+10:00</td>\n",
       "      <td>True</td>\n",
       "      <td>2022-10-18 21:36:36.413395+10:00</td>\n",
       "    </tr>\n",
       "    <tr>\n",
       "      <th>3</th>\n",
       "      <td>NVDA</td>\n",
       "      <td>1</td>\n",
       "      <td>inf</td>\n",
       "      <td>-inf</td>\n",
       "      <td>2022-10-25 21:36:36.413395+10:00</td>\n",
       "      <td>True</td>\n",
       "      <td>2022-10-18 21:36:36.413395+10:00</td>\n",
       "    </tr>\n",
       "  </tbody>\n",
       "</table>\n",
       "</div>"
      ],
      "text/plain": [
       "  Ticker Quantity  Upper_Limit  Lower_Limit                      Expiry_Date  \\\n",
       "0   AAPL        1          inf         -inf 2022-10-25 21:36:36.413395+10:00   \n",
       "1   TSLA        1          inf         -inf 2022-10-25 21:36:36.413395+10:00   \n",
       "2   MSFT        1          inf         -inf 2022-10-25 21:36:36.413395+10:00   \n",
       "3   NVDA        1          inf         -inf 2022-10-25 21:36:36.413395+10:00   \n",
       "\n",
       "  Fill_or_Kill                Last_Date_Checked  \n",
       "0         True 2022-10-18 21:36:36.413395+10:00  \n",
       "1         True 2022-10-18 21:36:36.413395+10:00  \n",
       "2         True 2022-10-18 21:36:36.413395+10:00  \n",
       "3         True 2022-10-18 21:36:36.413395+10:00  "
      ]
     },
     "execution_count": 187,
     "metadata": {},
     "output_type": "execute_result"
    }
   ],
   "source": [
    "# See what orders we would get if we used this strategy\n",
    "followHerd.orders"
   ]
  },
  {
   "cell_type": "markdown",
   "metadata": {},
   "source": [
    "To see how well this strategy performs in the long term, you would execute these orders (possibly run the algo a few more times until you spend most of your balance), then save the portfolio, and revisit it when you want to see how the strategy has performed in the long term, or run the algo again to see if it decides to sell or buy more etc."
   ]
  },
  {
   "cell_type": "markdown",
   "metadata": {},
   "source": [
    "## Possible further improvements\n",
    "* You could easily adapt this code to be used for backtesting, by substituting the \"now\" variable in the porfolio class methods with an argument to the method of some user specified time, then run your trading strategy passing past time values to this argument.\n",
    "* You could add a transaction cost for each order.\n",
    "* You could use a more sophisticated combination of high and low prices instead of the close if you think it could be more realistic.\n",
    "* Track the profits from individual shares rather than just the portfolio as a whole\n",
    "* You could create some form of GUI instead of entering via command line\n",
    "* Fix any holes or edge cases I haven't considered (I'm only human sorry)\n",
    "* And just about any other improvement you can possibly think of, such is the nature of high-level coding."
   ]
  }
 ],
 "metadata": {
  "colab": {
   "collapsed_sections": [],
   "provenance": []
  },
  "kernelspec": {
   "display_name": "Python 3 (ipykernel)",
   "language": "python",
   "name": "python3"
  },
  "language_info": {
   "codemirror_mode": {
    "name": "ipython",
    "version": 3
   },
   "file_extension": ".py",
   "mimetype": "text/x-python",
   "name": "python",
   "nbconvert_exporter": "python",
   "pygments_lexer": "ipython3",
   "version": "3.9.7"
  }
 },
 "nbformat": 4,
 "nbformat_minor": 1
}
